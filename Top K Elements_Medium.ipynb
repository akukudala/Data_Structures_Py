{
  "nbformat": 4,
  "nbformat_minor": 0,
  "metadata": {
    "colab": {
      "provenance": [],
      "authorship_tag": "ABX9TyNB4zmr8CMHspLIVDK4Totf",
      "include_colab_link": true
    },
    "kernelspec": {
      "name": "python3",
      "display_name": "Python 3"
    },
    "language_info": {
      "name": "python"
    }
  },
  "cells": [
    {
      "cell_type": "markdown",
      "metadata": {
        "id": "view-in-github",
        "colab_type": "text"
      },
      "source": [
        "<a href=\"https://colab.research.google.com/github/akukudala/Data_Structures_Py/blob/main/Top%20K%20Elements_Medium.ipynb\" target=\"_parent\"><img src=\"https://colab.research.google.com/assets/colab-badge.svg\" alt=\"Open In Colab\"/></a>"
      ]
    },
    {
      "cell_type": "markdown",
      "source": [
        "* https://leetcode.com/problems/top-k-frequent-elements/description/\n"
      ],
      "metadata": {
        "id": "-Oaqfh-BBq8j"
      }
    },
    {
      "cell_type": "markdown",
      "source": [
        "\n",
        "*  Given an integer array nums and an integer k, return the k most frequent elements. You may return the answer in any order.\n",
        "\n",
        "* Calculating the number of occurences of each number is our first step. We can do that by using hashmap.\n",
        "*  I learnt the below code during this problem itself. We are sorting the keys (keys here are the actual numbers) based on the values (values are the count/occurences). Reversing because we want the sorted values in descending order.\n",
        "\n",
        "* sorted_vals = sorted(hashmap.keys(),key = lambda x:hashmap[x], reverse=True)"
      ],
      "metadata": {
        "id": "VbtniyqIBweA"
      }
    },
    {
      "cell_type": "code",
      "execution_count": null,
      "metadata": {
        "id": "7Nc_obvlBpJT"
      },
      "outputs": [],
      "source": [
        "class Solution:\n",
        "    def topKFrequent(self, nums: List[int], k: int) -> List[int]:\n",
        "        hashmap = {}\n",
        "        # We will be using k in the last step. Let us first calculate the number of occurances of each number.\n",
        "        for i in range(len(nums)):\n",
        "            if nums[i] in hashmap:\n",
        "                hashmap[nums[i]]+=1\n",
        "            else:\n",
        "                hashmap[nums[i]]=1\n",
        "        # Now, we have the count of each repetition of numbers. Let us just sort them.\n",
        "        sorted_vals = sorted(hashmap.keys(),key = lambda x:hashmap[x], reverse=True)\n",
        "        return sorted_vals[:k]"
      ]
    }
  ]
}