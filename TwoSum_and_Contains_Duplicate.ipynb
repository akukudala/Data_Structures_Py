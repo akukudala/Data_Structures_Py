{
  "nbformat": 4,
  "nbformat_minor": 0,
  "metadata": {
    "colab": {
      "provenance": [],
      "authorship_tag": "ABX9TyNNy31NVxCPDv1JaIlN1nT7",
      "include_colab_link": true
    },
    "kernelspec": {
      "name": "python3",
      "display_name": "Python 3"
    },
    "language_info": {
      "name": "python"
    }
  },
  "cells": [
    {
      "cell_type": "markdown",
      "metadata": {
        "id": "view-in-github",
        "colab_type": "text"
      },
      "source": [
        "<a href=\"https://colab.research.google.com/github/akukudala/Data_Structures_Py/blob/main/TwoSum_and_Contains_Duplicate.ipynb\" target=\"_parent\"><img src=\"https://colab.research.google.com/assets/colab-badge.svg\" alt=\"Open In Colab\"/></a>"
      ]
    },
    {
      "cell_type": "markdown",
      "source": [
        "* 1  https://leetcode.com/problems/two-sum/\n",
        "* 2  https://leetcode.com/problems/contains-duplicate/"
      ],
      "metadata": {
        "id": "3FI87rafev-I"
      }
    },
    {
      "cell_type": "markdown",
      "source": [
        "Let us first do an easy approach.\n",
        "* I used two loops which results in O(n^2)\n",
        "* Used the condition i!=j because there might be a scenario where target is 4 and one value is 2. It results in the same index twice. To handle that we can use i!=j.\n",
        "* Returning the indexes in form of list. If the result does not exist, returning []"
      ],
      "metadata": {
        "id": "JtzpOZyDe9i_"
      }
    },
    {
      "cell_type": "code",
      "source": [
        "class Solution:\n",
        "    def twoSum(self, nums: List[int], target: int) -> List[int]:\n",
        "        for i in range(len(nums)):\n",
        "            for j in range(1,len(nums)):\n",
        "                if i!=j and target-nums[i]-nums[j]==0:\n",
        "                    return [i,j]\n",
        "        return []"
      ],
      "metadata": {
        "id": "LD95hDhQe5IP"
      },
      "execution_count": null,
      "outputs": []
    },
    {
      "cell_type": "markdown",
      "source": [
        "Let us try to reduce the time complexity to O(n).\n",
        "* Since we know that we need the indexes as output, i am using the loop for index, number.\n",
        "* Calculating the complement number and verifying if the number is existing in the dict. If yes, we can directly retirn the comp index and the index of the number which is substracted from target.\n"
      ],
      "metadata": {
        "id": "A21YGFo9fhuI"
      }
    },
    {
      "cell_type": "code",
      "source": [
        "\n",
        "class Solution:\n",
        "    def twoSum(self, nums: List[int], target: int) -> List[int]:\n",
        "        res = {}\n",
        "        for i, num in enumerate(nums):\n",
        "            comp = target - num\n",
        "            if comp in res:\n",
        "                return [i,res[comp]]\n",
        "            else:\n",
        "                res[num] = i\n",
        "        return []"
      ],
      "metadata": {
        "id": "NsoTgA6rfg_A"
      },
      "execution_count": null,
      "outputs": []
    },
    {
      "cell_type": "markdown",
      "source": [
        "Let us first do an easy approach.\n",
        "\n",
        "* I could think of sorting and comparing the concurrent values and returning the result.\n",
        "* I used simple sort() function in python and compared. This is not a good approach as sort function itself is O(n^2)"
      ],
      "metadata": {
        "id": "RpWfKXSSi-Mh"
      }
    },
    {
      "cell_type": "code",
      "source": [
        "class Solution:\n",
        "    def containsDuplicate(self, nums: List[int]) -> bool:\n",
        "        nums.sort()\n",
        "        for i in range(1,len(nums)):\n",
        "            if (nums[i]==nums[i-1]):\n",
        "                    return True\n",
        "        return False\n"
      ],
      "metadata": {
        "id": "my1jYy8jiO_M"
      },
      "execution_count": null,
      "outputs": []
    },
    {
      "cell_type": "markdown",
      "source": [
        "I am using the set data structure because it cannot contain duplicates and it is an appropriate data structure in this scenario.\n",
        "* Adding the nums in set.\n",
        "* If the num is already available in set, return True as o/p"
      ],
      "metadata": {
        "id": "RwODtfUPmeSI"
      }
    },
    {
      "cell_type": "code",
      "source": [
        "class Solution:\n",
        "    def containsDuplicate(self, nums: List[int]) -> bool:\n",
        "        numdict = set()\n",
        "        for num in nums:\n",
        "            if num in numdict:\n",
        "                return True\n",
        "            else:\n",
        "                numdict.add(num)\n",
        "        return False\n"
      ],
      "metadata": {
        "id": "Pynmj1_il0sT"
      },
      "execution_count": null,
      "outputs": []
    }
  ]
}