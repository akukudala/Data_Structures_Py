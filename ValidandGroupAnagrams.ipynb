{
  "nbformat": 4,
  "nbformat_minor": 0,
  "metadata": {
    "colab": {
      "provenance": [],
      "authorship_tag": "ABX9TyMDQ0IP4XO5rrtei08/ysVJ",
      "include_colab_link": true
    },
    "kernelspec": {
      "name": "python3",
      "display_name": "Python 3"
    },
    "language_info": {
      "name": "python"
    }
  },
  "cells": [
    {
      "cell_type": "markdown",
      "metadata": {
        "id": "view-in-github",
        "colab_type": "text"
      },
      "source": [
        "<a href=\"https://colab.research.google.com/github/akukudala/Data_Structures_Py/blob/main/ValidandGroupAnagrams.ipynb\" target=\"_parent\"><img src=\"https://colab.research.google.com/assets/colab-badge.svg\" alt=\"Open In Colab\"/></a>"
      ]
    },
    {
      "cell_type": "markdown",
      "source": [
        "* https://leetcode.com/problems/valid-anagram/\n",
        "* https://leetcode.com/problems/group-anagrams/"
      ],
      "metadata": {
        "id": "MH_hstKs-4OM"
      }
    },
    {
      "cell_type": "markdown",
      "source": [
        "## What is an Anagram?\n",
        "### An Anagram is a word or phrase formed by rearranging the letters of a different word or phrase, typically using all the original letters exactly once.\n",
        "\n",
        "* Ex: eat and tea are anagrams. cof and ocg are not anagrams"
      ],
      "metadata": {
        "id": "Dx_ApGHK-_7z"
      }
    },
    {
      "cell_type": "markdown",
      "source": [
        "Thinking of a simple solution, we can always sort the string and compare them."
      ],
      "metadata": {
        "id": "mLxBY1GdLtdw"
      }
    },
    {
      "cell_type": "code",
      "source": [
        "class Solution:\n",
        "    def isAnagram(self, s: str, t: str) -> bool:\n",
        "        ssorted = sorted(s)\n",
        "        tsorted = sorted(t)\n",
        "        if ssorted == tsorted:\n",
        "            return True\n",
        "        else:\n",
        "            return False\n",
        ""
      ],
      "metadata": {
        "id": "AMARdoOwKOtD"
      },
      "execution_count": null,
      "outputs": []
    },
    {
      "cell_type": "markdown",
      "source": [
        "But, lets try to use dict Data Structure and see if we can reduce the time complexity by not sorting."
      ],
      "metadata": {
        "id": "JKze5TzZLwSq"
      }
    },
    {
      "cell_type": "code",
      "source": [
        "class Solution:\n",
        "    def isAnagram(self, s: str, t: str) -> bool:\n",
        "        countdict = {}\n",
        "        for st in s:\n",
        "            if st in countdict:\n",
        "                countdict[st]+=1\n",
        "            else:\n",
        "                countdict[st]=1\n",
        "        for st in t:\n",
        "            if st in countdict:\n",
        "                countdict[st]-=1\n",
        "            else:\n",
        "                return False\n",
        "        for val in countdict.values():\n",
        "            if val!=0:\n",
        "                return False\n",
        "        return True\n",
        "\n",
        ""
      ],
      "metadata": {
        "id": "42QbeMi1KU7h"
      },
      "execution_count": null,
      "outputs": []
    },
    {
      "cell_type": "markdown",
      "source": [
        "Grouping Anagrams is a Medium Leetcode question. It was initially tricky for me to group them in a list. But, dict data structure came to the rescue."
      ],
      "metadata": {
        "id": "-Pu03LjLMApo"
      }
    },
    {
      "cell_type": "code",
      "source": [
        "class Solution:\n",
        "    def groupAnagrams(self, strs: List[str]) -> List[List[str]]:\n",
        "        grouping = {}\n",
        "        res = []\n",
        "        for s in strs:\n",
        "            ssort = \"\".join(sorted(s))\n",
        "            if ssort in grouping:\n",
        "                grouping[ssort].append(s)\n",
        "            else:\n",
        "                grouping[ssort] = [s]\n",
        "        for val in grouping.values():   #Here, the values are the list which we grouped together\n",
        "            res.append(val)\n",
        "        return res"
      ],
      "metadata": {
        "id": "c51HI7B3L6iQ"
      },
      "execution_count": null,
      "outputs": []
    }
  ]
}